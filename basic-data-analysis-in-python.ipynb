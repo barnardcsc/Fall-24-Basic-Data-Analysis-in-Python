{
  "cells": [
    {
      "cell_type": "markdown",
      "metadata": {
        "id": "376NRxx7jCvc"
      },
      "source": [
        "# Basic Data Analysis in Python using the Drosophila Connectome\n",
        "The Drosophila connectime is a publicly available dataset of neurons and connections within a single fruit fly brain. To learn more about the Drosophila connectome, explore these resources.\n",
        "\n",
        "[Fruit Fly Brain Observatory](https://hemibrain.neuronlp.fruitflybrain.org)\n",
        "\n",
        "[Neuprint](https://neuprint.janelia.org/)\n",
        "\n",
        "[Codex Flywire Explorer](https://codex.flywire.ai)\n",
        "\n",
        "In today's tutorial, we will be accessing the Hemibrain data from Janelia via the Neuprint API. You can reference the [documentation](https://connectome-neuprint.github.io/neuprint-python/docs/queries.html) to learn more about querying the Hemibrain connectome database.\n",
        "- Learn to access Drosophila brain data from Neuprint by creating a query\n",
        "- Access data from a Pandas dataframe with indexing and logical indexing\n",
        "- Use describe to get quick stats\n",
        "- Plot a histogram of synaptic sites\n",
        "- Make a pivot table and heatmap of connections among neurons"
      ]
    },
    {
      "cell_type": "markdown",
      "metadata": {
        "id": "2ZeuzZeSjCvf"
      },
      "source": [
        "# Getting set up\n",
        "To get started, navigate to this site to create an account and obtain an authorization token: https://connectome-neuprint.github.io/neuprint-python/docs/quickstart.html#client-and-authorization-token.\n",
        "\n",
        "Start by entering your client info here to start a Neuprint session. Just copy and paste your token into the space provided. We'll also import the most important packages we'll need."
      ]
    },
    {
      "cell_type": "code",
      "execution_count": null,
      "metadata": {
        "id": "iW2UcX3AjCvg"
      },
      "outputs": [],
      "source": [
        "# in Google Colab, run this cell to install the neuprint-python package\n",
        "%pip install neuprint-python"
      ]
    },
    {
      "cell_type": "code",
      "execution_count": null,
      "metadata": {
        "id": "xu7RERIujCvi"
      },
      "outputs": [],
      "source": [
        "from neuprint import Client\n",
        "\n",
        "# insert personal token above. see https://connectome-neuprint.github.io/neuprint-python/docs/quickstart.html#client-and-authorization-token for instructions\n",
        "c = Client('neuprint.janelia.org', dataset='hemibrain:v1.2.1', token='')\n",
        "c.fetch_version()"
      ]
    },
    {
      "cell_type": "code",
      "execution_count": null,
      "metadata": {
        "id": "erXYYpPejCvi"
      },
      "outputs": [],
      "source": [
        "# import important stuff here\n",
        "import numpy as np\n",
        "import pandas as pd"
      ]
    },
    {
      "cell_type": "markdown",
      "metadata": {
        "id": "ytuvsudrjCvi"
      },
      "source": [
        "Every neuron, or piece of neuron, has its own body ID. Below is a manually created list of the body IDs for the labeled and annotated clock neurons in the Hemibrain. We'll use these body IDs to access information about these neurons from neuprint."
      ]
    },
    {
      "cell_type": "code",
      "execution_count": 1,
      "metadata": {
        "id": "0gIQ8aUwjCvi"
      },
      "outputs": [],
      "source": [
        "clock_bodyIds = [2068801704, 1664980698, 2007068523, 1975347348, 5813056917, 5813021192, 5813069648, 511051477,\n",
        "                  296544364, 448260940, 5813064789, 356818551, 480029788, 450034902, 546977514, 264083994, 5813022274,\n",
        "                  5813010153, 324846570, 325529237, 387944118, 387166379, 386834269, 5813071319, 1884625521,\n",
        "                  2065745704, 5813001741, 5813026773]"
      ]
    },
    {
      "cell_type": "markdown",
      "metadata": {
        "id": "aTNAvNYJjCvj"
      },
      "source": [
        "## Fetch Dataframe of neurons from Neuprint\n",
        "We'll start by making a query to fetch summary information about each of these neurons using the fetch_neurons function from the neuprint package. This function takes some neuron criteria as its input and returns two dataframes containing summary information about the individual neurons that match the criteria and information about the number of synaptic sites on the neurons. We'll only work with the first dataframe."
      ]
    },
    {
      "cell_type": "code",
      "execution_count": null,
      "metadata": {
        "id": "w9if15TyjCvj"
      },
      "outputs": [],
      "source": [
        "from neuprint import fetch_neurons\n",
        "\n",
        "neuron_df, _ = fetch_neurons(clock_bodyIds)"
      ]
    },
    {
      "cell_type": "markdown",
      "metadata": {
        "id": "R86R4NdpjCvj"
      },
      "source": [
        "Display the dataframe below and notice that it has many columns with information about this set of 28 clock neurons. In addition to a bodyId, each neuron has a type and an instance label. The pre and post columns indicate the numbers of presynaptic and postsynaptic sites that are attributed to the neuron. The presynaptic sites are where the neuron would be releasing neurotransmitters from. The postsynaptic sites on the neuron are where it is receiving inputs. Mito is the number of mitochondria that were counted in the neuron. CellBodyFiber is related to the hemilineage of the neuron. It indicates which neurons likely derived from the same stem cell.\n",
        "\n",
        "For the purposes of this tutorial, let's work with the counts of synaptic sites."
      ]
    },
    {
      "cell_type": "code",
      "execution_count": null,
      "metadata": {
        "id": "kFhww85djCvj"
      },
      "outputs": [],
      "source": [
        "neuron_df"
      ]
    },
    {
      "cell_type": "markdown",
      "metadata": {
        "id": "cSoYCneLjCvk"
      },
      "source": [
        "# Working with a Pandas dataframe\n",
        "The Pandas dataframe is similar to an Excel spreadsheet. We can use code to grab the data that we want from it."
      ]
    },
    {
      "cell_type": "code",
      "execution_count": null,
      "metadata": {
        "id": "re3s4weajCvk"
      },
      "outputs": [],
      "source": [
        "# get the columns with cell type and post sites\n",
        "neuron_df[['type','post']]"
      ]
    },
    {
      "cell_type": "code",
      "execution_count": null,
      "metadata": {
        "id": "o_rS88iojCvk"
      },
      "outputs": [],
      "source": [
        "# get the first row of the dataframe\n",
        "neuron_df.iloc[0]"
      ]
    },
    {
      "cell_type": "code",
      "execution_count": null,
      "metadata": {
        "id": "5eS2gfGjjCvk"
      },
      "outputs": [],
      "source": [
        "# another way to get the first row of the dataframe\n",
        "neuron_df[0:1]"
      ]
    },
    {
      "cell_type": "code",
      "execution_count": null,
      "metadata": {
        "id": "3gROGRAKjCvl"
      },
      "outputs": [],
      "source": [
        "# get the first three rows of the dataframe\n",
        "neuron_df[0:3]"
      ]
    },
    {
      "cell_type": "markdown",
      "metadata": {
        "id": "0126ulO5jCvl"
      },
      "source": [
        "## Indexing with logical expressions\n",
        "Let's say we wanted to grab only the rows that have information for the LNd cell type. We can use a logical expression in square brackets."
      ]
    },
    {
      "cell_type": "code",
      "execution_count": null,
      "metadata": {
        "id": "zmvwv6gWjCvl"
      },
      "outputs": [],
      "source": [
        "# get the LNd rows of the dataframe\n",
        "neuron_df[neuron_df['type'] == 'LNd']"
      ]
    },
    {
      "cell_type": "markdown",
      "metadata": {
        "id": "a7j_t2HJjCvl"
      },
      "source": [
        "Take a moment to see what that logical expression inside the square brackets is. It is a Boolean data type with True/False entries. Only the rows that have 'LNd' in the 'type' column have a True entry."
      ]
    },
    {
      "cell_type": "code",
      "execution_count": null,
      "metadata": {
        "id": "-RDg8uNPjCvl"
      },
      "outputs": [],
      "source": [
        "neuron_df['type'] == 'LNd'"
      ]
    },
    {
      "cell_type": "markdown",
      "metadata": {
        "id": "aXFRSencjCvm"
      },
      "source": [
        "# Basic statistics with a dataframe\n",
        "There are many Python methods for doing basic stats on a column of values from a dataframe. Below, I apply some of those methods to the 'post' column of the dataframe."
      ]
    },
    {
      "cell_type": "code",
      "execution_count": null,
      "metadata": {
        "id": "Z57T_oTGjCvm"
      },
      "outputs": [],
      "source": [
        "# get some summary stats about the post sites\n",
        "neuron_df['post'].describe()"
      ]
    },
    {
      "cell_type": "code",
      "execution_count": null,
      "metadata": {
        "id": "GEt9OHMvjCvm"
      },
      "outputs": [],
      "source": [
        "# get only the mean of the post sites\n",
        "neuron_df['post'].mean()"
      ]
    },
    {
      "cell_type": "code",
      "execution_count": null,
      "metadata": {
        "id": "N8OUqFo8jCvm"
      },
      "outputs": [],
      "source": [
        "# get only the mode of the post sites\n",
        "neuron_df['post'].mode()"
      ]
    },
    {
      "cell_type": "markdown",
      "metadata": {
        "id": "R1FPZhBxjCvm"
      },
      "source": [
        "## Histogram plot\n",
        "Use matplotlib to create a simple histogram from the values in the 'post' column of the dataframe."
      ]
    },
    {
      "cell_type": "code",
      "execution_count": null,
      "metadata": {
        "id": "zDA8pkWrjCvn"
      },
      "outputs": [],
      "source": [
        "# make a histogram of the post sites\n",
        "import matplotlib.pyplot as plt\n",
        "\n",
        "# choose the number of bins for your histogram\n",
        "plt.hist(neuron_df['post'], bins=10)\n",
        "\n",
        "# add labels and title\n",
        "plt.xlabel('# of post sites')\n",
        "plt.ylabel('Frequency')\n",
        "plt.title('Distribution of Post Sites for Clock Neurons')"
      ]
    },
    {
      "cell_type": "markdown",
      "metadata": {
        "id": "sZPIwuE0jCvn"
      },
      "source": [
        "# Pivot table of neuron connectivity\n",
        "To explore the connections that the clock neurons make with each other, we'll do another query with neuprint to obtain the data about those connections. This will return a dataframe that I have called 'connections'. It contains information about the strength of connections among the clock neurons."
      ]
    },
    {
      "cell_type": "code",
      "execution_count": null,
      "metadata": {
        "id": "M6y_XzRsjCvn"
      },
      "outputs": [],
      "source": [
        "# obtain dataframe of connections\n",
        "from neuprint import fetch_simple_connections\n",
        "\n",
        "connections = fetch_simple_connections(clock_bodyIds,clock_bodyIds)\n",
        "connections"
      ]
    },
    {
      "cell_type": "markdown",
      "metadata": {
        "id": "Qz3xluzOjCvn"
      },
      "source": [
        "To make a heatmap of the connection strenghs in this dataframe, we need to convert the dataframe into a pivot table. I named it 'matrix'."
      ]
    },
    {
      "cell_type": "code",
      "execution_count": null,
      "metadata": {
        "id": "dRBsuzbbjCvo"
      },
      "outputs": [],
      "source": [
        "# create a pivot table of connections\n",
        "matrix = connections.pivot(columns='bodyId_pre', index='bodyId_post', values='weight')\n",
        "matrix"
      ]
    },
    {
      "cell_type": "code",
      "execution_count": null,
      "metadata": {
        "id": "YL5Utut8jCvo"
      },
      "outputs": [],
      "source": [
        "# make a heatmap of the connectivity matrix with seaborn\n",
        "import seaborn\n",
        "\n",
        "fig = plt.figure(figsize=(16, 12))\n",
        "seaborn.heatmap(matrix, vmin=0, annot=True, cmap=seaborn.light_palette(\"purple\", as_cmap=True), cbar_kws={'label': 'connection strength'})\n",
        "plt.title('Connectivity matrix')\n",
        "plt.xlabel('postsynaptic')\n",
        "plt.ylabel('presynaptic')"
      ]
    },
    {
      "cell_type": "markdown",
      "metadata": {
        "id": "1RMBmRNojCvo"
      },
      "source": [
        "Another way to show this data would be to collapse the connection strengths by cell type so that we can create an aggregated pivot table and heatmap."
      ]
    },
    {
      "cell_type": "code",
      "execution_count": null,
      "metadata": {
        "id": "JHd9KKVZjCvp"
      },
      "outputs": [],
      "source": [
        "# use the groupby function to get the total connections by type\n",
        "connections_by_type = connections.groupby(['type_pre', 'type_post'], sort=False)['weight'].sum().reset_index()\n",
        "\n",
        "# create a pivot table of connections by type\n",
        "matrix = connections_by_type.pivot(columns='type_post', index='type_pre', values='weight')\n",
        "matrix"
      ]
    },
    {
      "cell_type": "code",
      "execution_count": null,
      "metadata": {
        "id": "YNtP8fhKjCvp"
      },
      "outputs": [],
      "source": [
        "# make a heatmap of the connectivity matrix with seaborn\n",
        "import seaborn\n",
        "\n",
        "fig = plt.figure(figsize=(16, 12))\n",
        "seaborn.heatmap(matrix, vmin=0, annot=True, cmap=seaborn.light_palette(\"purple\", as_cmap=True), cbar_kws={'label': 'connection strength'})\n",
        "plt.title('Connectivity matrix')\n",
        "plt.xlabel('postsynaptic')\n",
        "plt.ylabel('presynaptic')"
      ]
    },
    {
      "cell_type": "markdown",
      "metadata": {
        "id": "HBsoeoJQjCvp"
      },
      "source": [
        "# It's your turn!\n",
        "Try a query of your own, or work with the dataframes in this notebook to do some stats on a different column of data."
      ]
    },
    {
      "cell_type": "code",
      "execution_count": null,
      "metadata": {
        "id": "DwJzimFtjCvp"
      },
      "outputs": [],
      "source": []
    }
  ],
  "metadata": {
    "kernelspec": {
      "display_name": "modularity",
      "language": "python",
      "name": "python3"
    },
    "language_info": {
      "codemirror_mode": {
        "name": "ipython",
        "version": 3
      },
      "file_extension": ".py",
      "mimetype": "text/x-python",
      "name": "python",
      "nbconvert_exporter": "python",
      "pygments_lexer": "ipython3",
      "version": "3.10.14"
    },
    "colab": {
      "provenance": []
    }
  },
  "nbformat": 4,
  "nbformat_minor": 0
}